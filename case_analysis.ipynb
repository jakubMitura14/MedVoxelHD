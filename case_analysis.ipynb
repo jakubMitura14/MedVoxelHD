{
 "cells": [
  {
   "cell_type": "code",
   "execution_count": 1,
   "metadata": {},
   "outputs": [
    {
     "name": "stderr",
     "output_type": "stream",
     "text": [
      "/usr/lib/python3/dist-packages/scipy/__init__.py:146: UserWarning: A NumPy version >=1.17.3 and <1.25.0 is required for this version of SciPy (detected version 1.26.1\n",
      "  warnings.warn(f\"A NumPy version >={np_minversion} and <{np_maxversion}\"\n",
      "Using /home/sliceruser/.cache/torch_extensions/py310_cu118 as PyTorch extensions root...\n",
      "Detected CUDA files, patching ldflags\n",
      "Emitting ninja build file /home/sliceruser/.cache/torch_extensions/py310_cu118/lltm_cuda/build.ninja...\n",
      "Building extension module lltm_cuda...\n",
      "Allowing ninja to set a default number of workers... (overridable by setting the environment variable MAX_JOBS=N)\n"
     ]
    },
    {
     "name": "stdout",
     "output_type": "stream",
     "text": [
      "ninja: no work to do.\n"
     ]
    },
    {
     "name": "stderr",
     "output_type": "stream",
     "text": [
      "Loading extension module lltm_cuda...\n",
      "Using /home/sliceruser/.cache/torch_extensions/py310_cu118 as PyTorch extensions root...\n",
      "No modifications detected for re-loaded extension module lltm_cuda, skipping build step...\n",
      "Loading extension module lltm_cuda...\n"
     ]
    }
   ],
   "source": [
    "from __future__ import division, print_function\n",
    "\n",
    "import argparse\n",
    "import csv\n",
    "import glob\n",
    "import os\n",
    "import re\n",
    "import shutil\n",
    "import tempfile\n",
    "import unittest\n",
    "import gspread as gspread\n",
    "import matplotlib.pyplot as plt\n",
    "import numpy as np\n",
    "import pandas as pd\n",
    "import pymia\n",
    "import torch\n",
    "from monai.apps import download_and_extract\n",
    "from monai.config import print_config\n",
    "from monai.data import CacheDataset, DataLoader, Dataset, decollate_batch\n",
    "from monai.inferers import sliding_window_inference\n",
    "from monai.losses import DiceLoss\n",
    "from monai.metrics import (DiceMetric, HausdorffDistanceMetric,\n",
    "                           SurfaceDistanceMetric)\n",
    "from monai.networks.layers import Norm\n",
    "from monai.networks.nets import UNet\n",
    "from monai.transforms import *\n",
    "from monai.transforms import (AsDiscrete, AsDiscreted, Compose,\n",
    "                              CropForegroundd, EnsureChannelFirstd, LoadImage,\n",
    "                              LoadImaged, Orientationd, RandCropByPosNegLabeld,\n",
    "                              Resized, ScaleIntensityRanged, Spacingd)\n",
    "from monai.utils import first, set_determinism\n",
    "from torch.utils import benchmark\n",
    "from torch.utils.cpp_extension import load\n",
    "import torchvision.transforms as T\n",
    "from scipy import ndimage\n",
    "import matplotlib.pyplot as plt\n",
    "import einops\n",
    "import interface_HD\n",
    "# import warp as wp\n",
    "\n",
    "\n",
    "\"\"\"\n",
    "loading data and extension\n",
    "\"\"\"\n",
    "data_dir = \"/data/OrganSegmentations\"\n",
    "lltm_cuda = load('lltm_cuda', ['lltm_cuda.cpp', 'lltm_cuda_kernel.cu'], verbose=True)\n",
    "#help(lltm_cuda)\n",
    "device = torch.device(\"cuda\")\n",
    "\n",
    "%matplotlib inline\n"
   ]
  },
  {
   "cell_type": "code",
   "execution_count": 2,
   "metadata": {},
   "outputs": [],
   "source": [
    "\n",
    "\"\"\"\n",
    "set of functions that are used for simulating the output of arbitrary algorithm an preprocessing required in medical imaging pipeline\n",
    "\"\"\"\n",
    "\n",
    "def dilatatee_inner(arr, smallK):\n",
    "    \"\"\"\n",
    "    binary dilatation that is applied either to all points or just to a subset of the border points\n",
    "    \"\"\"\n",
    "    arr_new=ndimage.binary_dilation(arr,iterations=1)   \n",
    "   \n",
    "    if(smallK):\n",
    "        inds=np.argwhere(np.logical_and(arr_new,np.logical_not(arr)))\n",
    "        rng = np.random.default_rng()\n",
    "        rng.shuffle(inds,axis=0)\n",
    "\n",
    "\n",
    "        k = (inds.shape[0]//3)*2\n",
    "        inds=inds[0:k,:]    \n",
    "        arr_new[inds[:,0],inds[:,1],inds[:,2]]=False\n",
    "    return arr_new\n",
    "\n",
    "def dilatatee(arr,n_iter, smallK):\n",
    "    \"\"\"\n",
    "    applies dilatatee_inner function n_iter times\n",
    "    \"\"\"\n",
    "    for i in range(n_iter):\n",
    "        arr=dilatatee_inner(arr, smallK)\n",
    "    return arr\n",
    "\n",
    "def execute_single_case():\n",
    "    \"\"\"\n",
    "    get example files from a dataset preprocess them and return full per voxel Hausdorf distance\n",
    "    \"\"\"\n",
    "    set_determinism(seed=0)\n",
    "    \n",
    "    #preprocessing\n",
    "    val_transforms = Compose(\n",
    "    [\n",
    "        LoadImaged(keys=[\"image\", \"label\"]),\n",
    "        EnsureChannelFirstd(keys=[\"image\", \"label\"]),\n",
    "        Spacingd(keys=[\"image\", \"label\"], pixdim=(\n",
    "            1.0, 1.0, 1.0), mode=(\"bilinear\", \"nearest\")),\n",
    "        Orientationd(keys=[\"image\", \"label\"], axcodes=\"RAS\"),\n",
    "        CropForegroundd(keys=[\"image\", \"label\"], source_key=\"image\"),\n",
    "        EnsureTyped(keys=[\"image\", \"label\"]),\n",
    "    ])\n",
    "\n",
    "    #choosing files\n",
    "    images = sorted(\n",
    "        glob.glob(os.path.join(data_dir, \"*.nii.gz\")))\n",
    "    train_images= list(filter(lambda p : \"volume\" in p, images))   \n",
    "    train_labels= list(filter(lambda p : \"label\" in p, images))\n",
    "\n",
    "    data_dicts = [\n",
    "        {\"image\": image_name, \"label\": label_name}\n",
    "        for image_name, label_name in zip(train_images, train_labels)\n",
    "    ]   \n",
    "    data_dicts= data_dicts[0:1]\n",
    "\n",
    "    #get dataloader\n",
    "    check_ds = Dataset(data=data_dicts, transform=val_transforms)\n",
    "    check_loader = DataLoader(check_ds, batch_size=1)\n",
    "    for dat in check_loader:   \n",
    "        ii=1\n",
    "\n",
    "        sizz = dat['image'].shape        \n",
    "        #in this case we will display just the liver so we had chosen its label\n",
    "        labelBoolTensorA =  torch.where( dat['label']==ii, 1, 0).bool()\n",
    "\n",
    "\n",
    "        labelBoolTensorB=dilatatee(labelBoolTensorA[0,0,:,:,:].detach().cpu().numpy(),20,True)\n",
    "        labelBoolTensorB=dilatatee(labelBoolTensorB,10,False)\n",
    "        labelBoolTensorB= torch.tensor(labelBoolTensorB)\n",
    "\n",
    "        WIDTH,  HEIGHT,  DEPTH= sizz[2], sizz[3],sizz[4]\n",
    "        \"\"\"\n",
    "        invoking the housdorff distance function so we get the per voxel HD value that can be displayed\n",
    "        \"\"\"\n",
    "        res=lltm_cuda.getHausdorffDistance_3Dres(labelBoolTensorA[0,0,:,:,:].to(device) , labelBoolTensorB.to(device),  WIDTH,  HEIGHT,  DEPTH,1.0, torch.ones(1, dtype =bool) )\n",
    "        res= res.reshape(WIDTH,  HEIGHT,  DEPTH)\n",
    "\n",
    "        #in this case we want just one case so we break the loop\n",
    "        return res,labelBoolTensorA,labelBoolTensorB"
   ]
  },
  {
   "cell_type": "code",
   "execution_count": 3,
   "metadata": {},
   "outputs": [
    {
     "name": "stderr",
     "output_type": "stream",
     "text": [
      "monai.transforms.croppad.dictionary CropForegroundd.__init__:allow_smaller: Current default value of argument `allow_smaller=True` has been deprecated since version 1.2. It will be changed to `allow_smaller=False` in version 1.5.\n"
     ]
    }
   ],
   "source": [
    "\"\"\"\n",
    "execution of main function\n",
    "\"\"\"\n",
    "res,labelBoolTensorA,labelBoolTensorB=execute_single_case()\n",
    "labelBoolTensorA=labelBoolTensorA[0,0,:,:,:].to(device)\n",
    "labelBoolTensorB=labelBoolTensorB.to(device)"
   ]
  },
  {
   "cell_type": "code",
   "execution_count": 11,
   "metadata": {},
   "outputs": [
    {
     "name": "stdout",
     "output_type": "stream",
     "text": [
      "classic HD 42 average 3.5805821418762207\n"
     ]
    }
   ],
   "source": [
    "robustness_percent=1.0\n",
    "point=interface_HD.getHausdorffDistance(labelBoolTensorA,labelBoolTensorB,robustness_percent)\n",
    "res_3d=interface_HD.getHausdorffDistance3Dres(labelBoolTensorA,labelBoolTensorB,robustness_percent)\n",
    "arr=interface_HD.getHausdorffDistanceFullResList(labelBoolTensorA,labelBoolTensorB,robustness_percent)\n",
    "average=interface_HD.getAverageHausdorffDistance(labelBoolTensorA,labelBoolTensorB,robustness_percent)\n",
    "print(f\"classic HD {point} average {average}\")"
   ]
  },
  {
   "cell_type": "code",
   "execution_count": 9,
   "metadata": {},
   "outputs": [
    {
     "data": {
      "image/png": "[encoded data removed]",
      "text/plain": [
       "<Figure size 432x288 with 1 Axes>"
      ]
     },
     "metadata": {
      "needs_background": "light"
     },
     "output_type": "display_data"
    }
   ],
   "source": [
    "import matplotlib.pyplot as plt\n",
    "\n",
    "plt.hist(arr.detach().cpu().numpy())\n",
    "plt.xlabel('Value')\n",
    "plt.ylabel('Frequency')\n",
    "plt.title('Histogram of arr')\n",
    "plt.show()\n"
   ]
  },
  {
   "cell_type": "code",
   "execution_count": 10,
   "metadata": {},
   "outputs": [
    {
     "data": {
      "text/plain": [
       "<matplotlib.image.AxesImage at 0x7efbed4f9300>"
      ]
     },
     "execution_count": 10,
     "metadata": {},
     "output_type": "execute_result"
    },
    {
     "data": {
      "image/png": "[encoded data removed]",
      "text/plain": [
       "<Figure size 432x288 with 1 Axes>"
      ]
     },
     "metadata": {
      "needs_background": "light"
     },
     "output_type": "display_data"
    }
   ],
   "source": [
    "\n",
    "res_now=res.detach().cpu().numpy()\n",
    "res_now= np.rot90(res_now,1)\n",
    "res_now= np.flip(res_now,1)\n",
    "x=einops.reduce(res_now, 'x y z -> x', 'sum')\n",
    "z=einops.reduce(res_now, 'x y z -> z', 'sum')\n",
    "slice_x= np.argmax(x)\n",
    "slice_z= np.argmax(z)\n",
    "to_disp=res_now[:,:,slice_z-40]\n",
    "\n",
    "plt.imshow(to_disp)"
   ]
  },
  {
   "cell_type": "code",
   "execution_count": null,
   "metadata": {},
   "outputs": [],
   "source": [
    "import SimpleITK as sitk\n",
    "\n",
    "# Save the images as a Nifti files to enable inspection in 3D slicer\n",
    "sitk.WriteImage(sitk.GetImageFromArray((res.detach().cpu().numpy())), \"/workspaces/Hausdorff_morphological/data/output.nii.gz\")\n",
    "sitk.WriteImage(sitk.GetImageFromArray(labelBoolTensorA.detach().cpu().numpy().astype(np.uint8)), \"/workspaces/Hausdorff_morphological/data/orig.nii.gz\")\n",
    "sitk.WriteImage(sitk.GetImageFromArray(labelBoolTensorB.detach().cpu().numpy().astype(np.uint8)), \"/workspaces/Hausdorff_morphological/data/dilatated.nii.gz\")\n",
    "\n"
   ]
  }
 ],
 "metadata": {
  "kernelspec": {
   "display_name": "Python 3",
   "language": "python",
   "name": "python3"
  },
  "language_info": {
   "codemirror_mode": {
    "name": "ipython",
    "version": 3
   },
   "file_extension": ".py",
   "mimetype": "text/x-python",
   "name": "python",
   "nbconvert_exporter": "python",
   "pygments_lexer": "ipython3",
   "version": "3.10.12"
  },
  "orig_nbformat": 4
 },
 "nbformat": 4,
 "nbformat_minor": 2
}
