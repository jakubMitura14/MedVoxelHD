{
 "cells": [
  {
   "cell_type": "code",
   "execution_count": 1,
   "metadata": {},
   "outputs": [],
   "source": [
    "import pandas as pd\n",
    "import numpy as np\n",
    "import matplotlib.pyplot as plt\n",
    "pathh=\"/workspaces/Hausdorff_morphological/csvResD.csv\"\n",
    "df= pd.read_csv(pathh)"
   ]
  },
  {
   "cell_type": "code",
   "execution_count": 2,
   "metadata": {},
   "outputs": [
    {
     "data": {
      "text/plain": [
       "Index(['Unnamed: 0', 'hdToTestRobustTime', 'hdToTestTime',\n",
       "       'avSurfDistToTestTime', 'myRobustHdTime', 'myHdTime', 'mymedianHdTime',\n",
       "       'olivieraTime', 'hdToTestRobustValue', 'hdToTestValue',\n",
       "       'myRobustHdValue', 'myHdValue', 'mymeanHdValue', 'olivieraValue',\n",
       "       'avSurfDistToTestValue', 'hdToTestValue ', 'sitk_average_value',\n",
       "       'sitk_hd_value', 'bench_sitk_time', 'WIDTH', 'HEIGHT', 'DEPTH', 'noise',\n",
       "       'distortion', 'translations'],\n",
       "      dtype='object')"
      ]
     },
     "execution_count": 2,
     "metadata": {},
     "output_type": "execute_result"
    }
   ],
   "source": [
    "df.columns"
   ]
  },
  {
   "cell_type": "code",
   "execution_count": 6,
   "metadata": {},
   "outputs": [],
   "source": [
    "hdToTestRobustTime= df['hdToTestRobustTime'].to_numpy()\n",
    "myRobustHdTime= df['myRobustHdTime'].to_numpy()\n",
    "\n",
    "olivieraTime= df['olivieraTime'].to_numpy()\n",
    "myHdTime= df['myHdTime'].to_numpy()\n",
    "\n",
    "bench_sitk_time= df['bench_sitk_time'].to_numpy()\n",
    "mymedianHdTime= df['mymedianHdTime'].to_numpy()\n"
   ]
  },
  {
   "cell_type": "code",
   "execution_count": 7,
   "metadata": {},
   "outputs": [
    {
     "name": "stdout",
     "output_type": "stream",
     "text": [
      " my [0.028135671518409913, 0.035382405851974115, 0.05517926437047475] \n",
      "  my_error [0.01966552681013445, 0.019956555668185532, 0.06022946201119205] \n",
      " their [29.131927883222396, 0.3827913804814815, 13.117581374592689] \n",
      " their_error [27.336256077786583, 0.2809537529577262, 2.5699455635748225] \n"
     ]
    }
   ],
   "source": [
    "\n",
    "my = [np.mean(myRobustHdTime), np.mean(myHdTime), np.mean(mymedianHdTime)]\n",
    "my_error = [np.std(myRobustHdTime), np.std(myHdTime), np.std(mymedianHdTime)]\n",
    "\n",
    "their = [np.mean(hdToTestRobustTime), np.mean(olivieraTime), np.mean(bench_sitk_time)]\n",
    "their_error = [np.std(hdToTestRobustTime), np.std(olivieraTime), np.std(bench_sitk_time)]\n",
    "\n",
    "# my=np.log10(my)\n",
    "# my_error=np.log10(my_error)\n",
    "# their=np.log10(their)\n",
    "# their_error=np.log10(their_error)\n",
    "\n",
    "print(f\" my {my} \\n  my_error {my_error} \\n their {their} \\n their_error {their_error} \")\n"
   ]
  },
  {
   "cell_type": "code",
   "execution_count": 9,
   "metadata": {},
   "outputs": [
    {
     "data": {
      "text/plain": [
       "array([1035.40901322,   10.81869283,  237.72664468])"
      ]
     },
     "execution_count": 9,
     "metadata": {},
     "output_type": "execute_result"
    }
   ],
   "source": [
    "np.array(their)/np.array(my)"
   ]
  },
  {
   "cell_type": "code",
   "execution_count": 5,
   "metadata": {},
   "outputs": [
    {
     "data": {
      "image/png": "[encoded data removed]",
      "text/plain": [
       "<Figure size 432x288 with 1 Axes>"
      ]
     },
     "metadata": {
      "needs_background": "light"
     },
     "output_type": "display_data"
    }
   ],
   "source": [
    "\n",
    "\n",
    "men_means, men_std = my, my_error\n",
    "women_means, women_std = their, their_error\n",
    "\n",
    "ind = np.arange(len(men_means))  # the x locations for the groups\n",
    "width = 0.35  # the width of the bars\n",
    "\n",
    "fig, ax = plt.subplots()\n",
    "rects1 = ax.bar(ind - width/2, men_means, width, yerr=men_std,\n",
    "                label='Author')\n",
    "rects2 = ax.bar(ind + width/2, women_means, width, yerr=women_std,\n",
    "                label='Reference')\n",
    "\n",
    "# Add some text for labels, title and custom x-axis tick labels, etc.\n",
    "ax.set_ylabel('exevution time')\n",
    "ax.set_title('')\n",
    "ax.set_xticks(ind)\n",
    "ax.set_xticklabels(('robust HD', 'HD', 'mean HD'))\n",
    "ax.legend()\n",
    "\n",
    "\n",
    "def autolabel(rects, xpos='center'):\n",
    "    \"\"\"\n",
    "    adapted from https://matplotlib.org/3.1.0/gallery/lines_bars_and_markers/barchart.html\n",
    "    Attach a text label above each bar in *rects*, displaying its height.\n",
    "\n",
    "    *xpos* indicates which side to place the text w.r.t. the center of\n",
    "    the bar. It can be one of the following {'center', 'right', 'left'}.\n",
    "    \"\"\"\n",
    "\n",
    "    ha = {'center': 'center', 'right': 'left', 'left': 'right'}\n",
    "    offset = {'center': 0, 'right': 1, 'left': -1}\n",
    "\n",
    "    for rect in rects:\n",
    "        height = rect.get_height()\n",
    "        ax.annotate('{}'.format(height),\n",
    "                    xy=(rect.get_x() + rect.get_width() / 2, height),\n",
    "                    xytext=(offset[xpos]*3, 3),  # use 3 points offset\n",
    "                    textcoords=\"offset points\",  # in both directions\n",
    "                    ha=ha[xpos], va='bottom')\n",
    "\n",
    "\n",
    "autolabel(rects1, \"left\")\n",
    "autolabel(rects2, \"right\")\n",
    "\n",
    "fig.tight_layout()\n",
    "\n",
    "plt.show()"
   ]
  },
  {
   "cell_type": "code",
   "execution_count": null,
   "metadata": {},
   "outputs": [],
   "source": []
  }
 ],
 "metadata": {
  "kernelspec": {
   "display_name": "Python 3",
   "language": "python",
   "name": "python3"
  },
  "language_info": {
   "codemirror_mode": {
    "name": "ipython",
    "version": 3
   },
   "file_extension": ".py",
   "mimetype": "text/x-python",
   "name": "python",
   "nbconvert_exporter": "python",
   "pygments_lexer": "ipython3",
   "version": "3.10.12"
  },
  "orig_nbformat": 4
 },
 "nbformat": 4,
 "nbformat_minor": 2
}
