{
 "cells": [
  {
   "cell_type": "code",
   "execution_count": 1,
   "metadata": {},
   "outputs": [
    {
     "name": "stderr",
     "output_type": "stream",
     "text": [
      "Matplotlib is building the font cache; this may take a moment.\n"
     ]
    }
   ],
   "source": [
    "import pandas as pd\n",
    "import numpy as np\n",
    "import matplotlib.pyplot as plt\n",
    "pathh=\"/workspaces/Hausdorff_morphological/csvResD.csv\"\n",
    "df= pd.read_csv(pathh)"
   ]
  },
  {
   "cell_type": "code",
   "execution_count": 2,
   "metadata": {},
   "outputs": [
    {
     "data": {
      "text/plain": [
       "Index(['hdToTestRobustTime', 'hdToTestTime', 'avSurfDistToTestTime',\n",
       "       'myRobustHdTime', 'myHdTime', 'mymedianHdTime', 'olivieraTime',\n",
       "       'hdToTestRobustValue', 'hdToTestValue', 'myRobustHdValue', 'myHdValue',\n",
       "       'mymeanHdValue', 'olivieraValue', 'avSurfDistToTestValue',\n",
       "       'hdToTestValue.1', 'sitk_average_value', 'sitk_hd_value',\n",
       "       'bench_sitk_time', 'WIDTH', 'HEIGHT', 'DEPTH', 'noise', 'distortion',\n",
       "       'translations', 'Unnamed: 24'],\n",
       "      dtype='object')"
      ]
     },
     "execution_count": 2,
     "metadata": {},
     "output_type": "execute_result"
    }
   ],
   "source": [
    "df.columns"
   ]
  },
  {
   "cell_type": "code",
   "execution_count": 3,
   "metadata": {},
   "outputs": [],
   "source": [
    "hdToTestRobustTime= df['hdToTestRobustTime'].to_numpy()\n",
    "myRobustHdTime= df['myRobustHdTime'].to_numpy()\n",
    "\n",
    "olivieraTime= df['olivieraTime'].to_numpy()\n",
    "myHdTime= df['myHdTime'].to_numpy()\n",
    "\n",
    "bench_sitk_time= df['bench_sitk_time'].to_numpy()\n",
    "mymedianHdTime= df['mymedianHdTime'].to_numpy()\n"
   ]
  },
  {
   "cell_type": "code",
   "execution_count": 7,
   "metadata": {},
   "outputs": [
    {
     "data": {
      "text/plain": [
       "array([         nan,   6.        ,  11.        ,  60.48966854,\n",
       "        60.94259594,  67.37210105, 334.6714807 , 531.0084745 ,\n",
       "       334.6714807 ,   1.        ,   6.        ,  11.        ,\n",
       "        16.        ,  21.        ,  26.        , 355.6248023 ,\n",
       "       531.0084745 , 355.6248023 ,   1.        ,   6.        ,\n",
       "        11.        ,  62.72160712,  63.1585307 , 147.766708  ,\n",
       "         1.        ,   6.        ,  11.        ,  16.        ,\n",
       "        21.        ,  26.        , 322.925688  , 319.7639755 ,\n",
       "       338.1848607 , 322.925688  ,   1.        ,   6.        ,\n",
       "        11.        ,  21.        ,  21.        ,  32.03123476,\n",
       "       400.6207683 , 292.5576866 , 319.7639755 , 400.6207683 ,\n",
       "         1.        ,   6.        ,  11.        ,  16.        ,\n",
       "        21.        ,  26.        , 410.1755722 , 338.1848607 ,\n",
       "       292.5576866 , 410.1755722 ,   1.        ,   6.        ,\n",
       "        11.        ,  16.        ,  21.        ,  26.        ,\n",
       "         1.        ,   8.06225775,  13.45362405,  19.23538406,\n",
       "        25.0998008 ,  32.21800739, 395.5881697 , 592.4803794 ,\n",
       "       395.5881697 ,   1.        ,   6.        ,  11.        ,\n",
       "        16.        ,  21.        ,  26.        , 360.7020931 ,\n",
       "       592.4803794 , 360.7020931 ,   1.        ,  28.17800561,\n",
       "        42.98837052,  40.16217126,  37.78888726,  35.39774004,\n",
       "         1.        ,   6.        ,  11.        , 376.458497  ,\n",
       "       376.458497  ,   4.47213595,   9.48683298,   5.        ,\n",
       "        12.36931688,  18.97366596,  30.8058436 ,  44.59820624,\n",
       "        72.        , 528.8279493 , 469.6647741 , 354.7083309 ,\n",
       "       589.9177909 , 528.8279493 ,   1.        ,   6.        ,\n",
       "        11.        ,  16.        ,  21.        ,  26.        ,\n",
       "       610.909977  , 502.1205035 , 511.5525388 , 469.6647741 ,\n",
       "       610.909977  ,   2.        ,  81.09870529,  81.22191822,\n",
       "        81.0246876 ,  84.14867795, 358.3308527 , 651.314824  ,\n",
       "       354.7083309 , 502.1205035 , 358.3308527 ,   2.82842713,\n",
       "         6.        ,  11.        ,  16.        ,  21.        ,\n",
       "        26.        , 336.2186788 , 589.9177909 ])"
      ]
     },
     "execution_count": 7,
     "metadata": {},
     "output_type": "execute_result"
    }
   ],
   "source": [
    "bench_sitk_time"
   ]
  },
  {
   "cell_type": "code",
   "execution_count": 10,
   "metadata": {},
   "outputs": [
    {
     "name": "stdout",
     "output_type": "stream",
     "text": [
      " my [0.04026173578603054, 0.04432870284007634, 0.0888880671521374] \n",
      "  my_error [0.04014276244838773, 0.03448377040636122, 0.12134845800248108] \n",
      " their [56.408254366633585, 0.2972857051908397, 156.7512800542231] \n",
      " their_error [43.108169471714014, 0.37824698660650286, 200.57831208031592] \n"
     ]
    }
   ],
   "source": [
    "\n",
    "my = [np.nanmean(myRobustHdTime), np.nanmean(myHdTime), np.nanmean(mymedianHdTime)]\n",
    "my_error = [np.nanstd(myRobustHdTime), np.nanstd(myHdTime), np.nanstd(mymedianHdTime)]\n",
    "\n",
    "their = [np.nanmean(hdToTestRobustTime), np.nanmean(olivieraTime), np.nanmean(bench_sitk_time)]\n",
    "their_error = [np.nanstd(hdToTestRobustTime), np.nanstd(olivieraTime), np.nanstd(bench_sitk_time)]\n",
    "\n",
    "# my=np.log10(my)\n",
    "# my_error=np.log10(my_error)\n",
    "# their=np.log10(their)\n",
    "# their_error=np.log10(their_error)\n",
    "\n",
    "print(f\" my {my} \\n  my_error {my_error} \\n their {their} \\n their_error {their_error} \")\n"
   ]
  },
  {
   "cell_type": "code",
   "execution_count": 11,
   "metadata": {},
   "outputs": [
    {
     "data": {
      "text/plain": [
       "array([1401.03880932,    6.70639306, 1763.46820306])"
      ]
     },
     "execution_count": 11,
     "metadata": {},
     "output_type": "execute_result"
    }
   ],
   "source": [
    "np.array(their)/np.array(my)"
   ]
  },
  {
   "cell_type": "code",
   "execution_count": 6,
   "metadata": {},
   "outputs": [
    {
     "name": "stderr",
     "output_type": "stream",
     "text": [
      "/usr/local/lib/python3.10/dist-packages/numpy/core/_methods.py:45: RuntimeWarning: invalid value encountered in reduce\n",
      "  return umr_minimum(a, axis, None, out, keepdims, initial, where)\n",
      "/usr/local/lib/python3.10/dist-packages/numpy/core/_methods.py:41: RuntimeWarning: invalid value encountered in reduce\n",
      "  return umr_maximum(a, axis, None, out, keepdims, initial, where)\n"
     ]
    },
    {
     "data": {
      "image/png": "[encoded data removed]",
      "text/plain": [
       "<Figure size 432x288 with 1 Axes>"
      ]
     },
     "metadata": {
      "needs_background": "light"
     },
     "output_type": "display_data"
    }
   ],
   "source": [
    "\n",
    "\n",
    "men_means, men_std = my, my_error\n",
    "women_means, women_std = their, their_error\n",
    "\n",
    "ind = np.arange(len(men_means))  # the x locations for the groups\n",
    "width = 0.35  # the width of the bars\n",
    "\n",
    "fig, ax = plt.subplots()\n",
    "rects1 = ax.bar(ind - width/2, men_means, width, yerr=men_std,\n",
    "                label='Author')\n",
    "rects2 = ax.bar(ind + width/2, women_means, width, yerr=women_std,\n",
    "                label='Reference')\n",
    "\n",
    "# Add some text for labels, title and custom x-axis tick labels, etc.\n",
    "ax.set_ylabel('exevution time')\n",
    "ax.set_title('')\n",
    "ax.set_xticks(ind)\n",
    "ax.set_xticklabels(('robust HD', 'HD', 'mean HD'))\n",
    "ax.legend()\n",
    "\n",
    "\n",
    "def autolabel(rects, xpos='center'):\n",
    "    \"\"\"\n",
    "    adapted from https://matplotlib.org/3.1.0/gallery/lines_bars_and_markers/barchart.html\n",
    "    Attach a text label above each bar in *rects*, displaying its height.\n",
    "\n",
    "    *xpos* indicates which side to place the text w.r.t. the center of\n",
    "    the bar. It can be one of the following {'center', 'right', 'left'}.\n",
    "    \"\"\"\n",
    "\n",
    "    ha = {'center': 'center', 'right': 'left', 'left': 'right'}\n",
    "    offset = {'center': 0, 'right': 1, 'left': -1}\n",
    "\n",
    "    for rect in rects:\n",
    "        height = rect.get_height()\n",
    "        ax.annotate('{}'.format(height),\n",
    "                    xy=(rect.get_x() + rect.get_width() / 2, height),\n",
    "                    xytext=(offset[xpos]*3, 3),  # use 3 points offset\n",
    "                    textcoords=\"offset points\",  # in both directions\n",
    "                    ha=ha[xpos], va='bottom')\n",
    "\n",
    "\n",
    "autolabel(rects1, \"left\")\n",
    "autolabel(rects2, \"right\")\n",
    "\n",
    "fig.tight_layout()\n",
    "\n",
    "plt.show()"
   ]
  },
  {
   "cell_type": "code",
   "execution_count": null,
   "metadata": {},
   "outputs": [],
   "source": []
  }
 ],
 "metadata": {
  "kernelspec": {
   "display_name": "Python 3",
   "language": "python",
   "name": "python3"
  },
  "language_info": {
   "codemirror_mode": {
    "name": "ipython",
    "version": 3
   },
   "file_extension": ".py",
   "mimetype": "text/x-python",
   "name": "python",
   "nbconvert_exporter": "python",
   "pygments_lexer": "ipython3",
   "version": "3.10.12"
  },
  "orig_nbformat": 4
 },
 "nbformat": 4,
 "nbformat_minor": 2
}
