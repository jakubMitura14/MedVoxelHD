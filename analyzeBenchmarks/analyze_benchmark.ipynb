{
 "cells": [
  {
   "cell_type": "code",
   "execution_count": 1,
   "metadata": {},
   "outputs": [],
   "source": [
    "import pandas as pd\n",
    "import numpy as np\n",
    "import matplotlib.pyplot as plt\n",
    "pathh=\"/workspaces/Hausdorff_morphological/analyzeBenchmarks/csvRes.csv\"\n",
    "df= pd.read_csv(pathh)"
   ]
  },
  {
   "cell_type": "code",
   "execution_count": 2,
   "metadata": {},
   "outputs": [
    {
     "data": {
      "text/plain": [
       "Index(['Unnamed: 0', 'noise', 'distortion', 'hdToTestRobustTime',\n",
       "       'hdToTestTime', 'avSurfDistToTestTime', 'myRobustHdTime', 'myHdTime',\n",
       "       'mymedianHdTime', 'olivieraTime', 'hdToTestRobustValue',\n",
       "       'hdToTestValue ', 'myRobustHdValue', 'myHdValue', 'mymeanHdValue',\n",
       "       'olivieraValue', 'avSurfDistToTestValue', 'WIDTH', 'HEIGHT', 'DEPTH',\n",
       "       'hdToTestValue', 'translations'],\n",
       "      dtype='object')"
      ]
     },
     "execution_count": 2,
     "metadata": {},
     "output_type": "execute_result"
    }
   ],
   "source": [
    "df.columns"
   ]
  },
  {
   "cell_type": "code",
   "execution_count": 3,
   "metadata": {},
   "outputs": [],
   "source": [
    "hdToTestRobustTime= df['hdToTestRobustTime'].to_numpy()\n",
    "myRobustHdTime= df['myRobustHdTime'].to_numpy()\n",
    "\n",
    "olivieraTime= df['olivieraTime'].to_numpy()\n",
    "myHdTime= df['myHdTime'].to_numpy()\n",
    "\n",
    "avSurfDistToTestTime= df['avSurfDistToTestTime'].to_numpy()\n",
    "mymedianHdTime= df['mymedianHdTime'].to_numpy()\n"
   ]
  },
  {
   "cell_type": "code",
   "execution_count": 4,
   "metadata": {},
   "outputs": [
    {
     "name": "stdout",
     "output_type": "stream",
     "text": [
      " my [0.0426042095317726, 0.028168828093611667, 0.036863343143748784] \n",
      "  my_error [0.018470669224582605, 0.006930073304034064, 0.012655780606982373] \n",
      " their [7.126312371404601, 0.5418228434782608, 7.1302029578595025] \n",
      " their_error [4.662587802141793, 0.17034477958259142, 4.658402306781649] \n"
     ]
    }
   ],
   "source": [
    "\n",
    "my = [np.mean(myRobustHdTime), np.mean(myHdTime), np.mean(mymedianHdTime)]\n",
    "my_error = [np.std(myRobustHdTime), np.std(myHdTime), np.std(mymedianHdTime)]\n",
    "\n",
    "their = [np.mean(hdToTestRobustTime), np.mean(olivieraTime), np.mean(avSurfDistToTestTime)]\n",
    "their_error = [np.std(hdToTestRobustTime), np.std(olivieraTime), np.std(avSurfDistToTestTime)]\n",
    "\n",
    "# my=np.log10(my)\n",
    "# my_error=np.log10(my_error)\n",
    "# their=np.log10(their)\n",
    "# their_error=np.log10(their_error)\n",
    "\n",
    "print(f\" my {my} \\n  my_error {my_error} \\n their {their} \\n their_error {their_error} \")\n"
   ]
  },
  {
   "cell_type": "code",
   "execution_count": 5,
   "metadata": {},
   "outputs": [
    {
     "data": {
      "image/png": "[encoded data removed]",
      "text/plain": [
       "<Figure size 432x288 with 1 Axes>"
      ]
     },
     "metadata": {
      "needs_background": "light"
     },
     "output_type": "display_data"
    }
   ],
   "source": [
    "\n",
    "\n",
    "men_means, men_std = my, my_error\n",
    "women_means, women_std = their, their_error\n",
    "\n",
    "ind = np.arange(len(men_means))  # the x locations for the groups\n",
    "width = 0.35  # the width of the bars\n",
    "\n",
    "fig, ax = plt.subplots()\n",
    "rects1 = ax.bar(ind - width/2, men_means, width, yerr=men_std,\n",
    "                label='Author')\n",
    "rects2 = ax.bar(ind + width/2, women_means, width, yerr=women_std,\n",
    "                label='Reference')\n",
    "\n",
    "# Add some text for labels, title and custom x-axis tick labels, etc.\n",
    "ax.set_ylabel('exevution time')\n",
    "ax.set_title('')\n",
    "ax.set_xticks(ind)\n",
    "ax.set_xticklabels(('robust HD', 'HD', 'mean HD'))\n",
    "ax.legend()\n",
    "\n",
    "\n",
    "def autolabel(rects, xpos='center'):\n",
    "    \"\"\"\n",
    "    adapted from https://matplotlib.org/3.1.0/gallery/lines_bars_and_markers/barchart.html\n",
    "    Attach a text label above each bar in *rects*, displaying its height.\n",
    "\n",
    "    *xpos* indicates which side to place the text w.r.t. the center of\n",
    "    the bar. It can be one of the following {'center', 'right', 'left'}.\n",
    "    \"\"\"\n",
    "\n",
    "    ha = {'center': 'center', 'right': 'left', 'left': 'right'}\n",
    "    offset = {'center': 0, 'right': 1, 'left': -1}\n",
    "\n",
    "    for rect in rects:\n",
    "        height = rect.get_height()\n",
    "        ax.annotate('{}'.format(height),\n",
    "                    xy=(rect.get_x() + rect.get_width() / 2, height),\n",
    "                    xytext=(offset[xpos]*3, 3),  # use 3 points offset\n",
    "                    textcoords=\"offset points\",  # in both directions\n",
    "                    ha=ha[xpos], va='bottom')\n",
    "\n",
    "\n",
    "autolabel(rects1, \"left\")\n",
    "autolabel(rects2, \"right\")\n",
    "\n",
    "fig.tight_layout()\n",
    "\n",
    "plt.show()"
   ]
  },
  {
   "cell_type": "code",
   "execution_count": null,
   "metadata": {},
   "outputs": [],
   "source": []
  }
 ],
 "metadata": {
  "kernelspec": {
   "display_name": "Python 3",
   "language": "python",
   "name": "python3"
  },
  "language_info": {
   "codemirror_mode": {
    "name": "ipython",
    "version": 3
   },
   "file_extension": ".py",
   "mimetype": "text/x-python",
   "name": "python",
   "nbconvert_exporter": "python",
   "pygments_lexer": "ipython3",
   "version": "3.10.12"
  },
  "orig_nbformat": 4
 },
 "nbformat": 4,
 "nbformat_minor": 2
}
